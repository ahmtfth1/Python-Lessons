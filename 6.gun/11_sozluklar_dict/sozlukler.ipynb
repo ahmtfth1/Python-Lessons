{
 "cells": [
  {
   "cell_type": "markdown",
   "metadata": {},
   "source": [
    "Sözlükler - dictionary - dict\n",
    "\n",
    "İki farklı yapıdan oluşan\n",
    "\n",
    "key - value -> Veri çifti\n",
    "key - anahtar -> Veriyi tanımlamak için\n",
    "value - değer ( veri ) - > atanan veri\n",
    "\n",
    "index numarası yoktur. index - key\n",
    "\n",
    "{}\n",
    "{\"Dil\":\"Python\"}\n",
    "{\"Dil\":\"Python\", \"Konu\":\"Fonksiyon\",\"Ders Saati\":6, \"katılımcılar\":[\"a\",\"b\",\"c]}\n"
   ]
  },
  {
   "cell_type": "code",
   "execution_count": 1,
   "metadata": {},
   "outputs": [],
   "source": [
    "sozluk = {\"Dil\":\"Python\", \"Konu\":\"Fonksiyon\",\"Ders Saati\":6, \"katılımcılar\":[\"a\",\"b\",\"c\"]}"
   ]
  },
  {
   "cell_type": "code",
   "execution_count": 2,
   "metadata": {},
   "outputs": [
    {
     "data": {
      "text/plain": [
       "dict"
      ]
     },
     "execution_count": 2,
     "metadata": {},
     "output_type": "execute_result"
    }
   ],
   "source": [
    "type(sozluk)"
   ]
  },
  {
   "cell_type": "code",
   "execution_count": 3,
   "metadata": {},
   "outputs": [
    {
     "name": "stdout",
     "output_type": "stream",
     "text": [
      "Python\n"
     ]
    }
   ],
   "source": [
    "print(sozluk[\"Dil\"])"
   ]
  },
  {
   "cell_type": "code",
   "execution_count": 4,
   "metadata": {},
   "outputs": [
    {
     "name": "stdout",
     "output_type": "stream",
     "text": [
      "dict_keys(['Dil', 'Konu', 'Ders Saati', 'katılımcılar'])\n"
     ]
    }
   ],
   "source": [
    "print(sozluk.keys())"
   ]
  },
  {
   "cell_type": "code",
   "execution_count": 5,
   "metadata": {},
   "outputs": [
    {
     "name": "stdout",
     "output_type": "stream",
     "text": [
      "dict_keys(['Dil', 'Konu', 'Ders Saati', 'katılımcılar'])\n"
     ]
    }
   ],
   "source": [
    "anahtarlar = sozluk.keys()\n",
    "print(anahtarlar)"
   ]
  },
  {
   "cell_type": "code",
   "execution_count": 6,
   "metadata": {},
   "outputs": [
    {
     "name": "stdout",
     "output_type": "stream",
     "text": [
      "Anahtar : Python\n",
      "Anahtar : Fonksiyon\n",
      "Anahtar : 6\n",
      "Anahtar : ['a', 'b', 'c']\n"
     ]
    }
   ],
   "source": [
    "for anahtar in sozluk.keys():\n",
    "    print(\"Anahtar :\", sozluk[anahtar])"
   ]
  },
  {
   "cell_type": "code",
   "execution_count": 8,
   "metadata": {},
   "outputs": [
    {
     "name": "stdout",
     "output_type": "stream",
     "text": [
      "{'Dil': 'Python', 'Konu': 'Fonksiyon', 'Ders Saati': 6, 'katılımcılar': ['a', 'b', 'c']}\n"
     ]
    }
   ],
   "source": [
    "print(sozluk)"
   ]
  },
  {
   "cell_type": "code",
   "execution_count": 9,
   "metadata": {},
   "outputs": [
    {
     "name": "stdout",
     "output_type": "stream",
     "text": [
      "b\n"
     ]
    }
   ],
   "source": [
    "print(sozluk[\"katılımcılar\"][1])"
   ]
  },
  {
   "cell_type": "code",
   "execution_count": 10,
   "metadata": {},
   "outputs": [
    {
     "name": "stdout",
     "output_type": "stream",
     "text": [
      "['a', 'b', 'c']\n"
     ]
    }
   ],
   "source": [
    "print(sozluk[\"katılımcılar\"])"
   ]
  },
  {
   "cell_type": "code",
   "execution_count": 11,
   "metadata": {},
   "outputs": [
    {
     "name": "stdout",
     "output_type": "stream",
     "text": [
      "['Ders Saati', 'Dil', 'Konu', 'katılımcılar']\n"
     ]
    }
   ],
   "source": [
    "print(sorted(sozluk.keys()))"
   ]
  },
  {
   "cell_type": "code",
   "execution_count": 13,
   "metadata": {},
   "outputs": [
    {
     "name": "stdout",
     "output_type": "stream",
     "text": [
      "dict_items([('Dil', 'Python'), ('Konu', 'Fonksiyon'), ('Ders Saati', 6), ('katılımcılar', ['a', 'b', 'c'])])\n"
     ]
    }
   ],
   "source": [
    "print(sozluk.items())"
   ]
  },
  {
   "cell_type": "code",
   "execution_count": 14,
   "metadata": {},
   "outputs": [
    {
     "name": "stdout",
     "output_type": "stream",
     "text": [
      "Anahtar :  Dil  Değer :  Python\n",
      "Anahtar :  Konu  Değer :  Fonksiyon\n",
      "Anahtar :  Ders Saati  Değer :  6\n",
      "Anahtar :  katılımcılar  Değer :  ['a', 'b', 'c']\n"
     ]
    }
   ],
   "source": [
    "for anahtar, deger in sozluk.items():\n",
    "    print(\"Anahtar : \", anahtar, \" Değer : \" , deger)"
   ]
  },
  {
   "cell_type": "code",
   "execution_count": 15,
   "metadata": {},
   "outputs": [
    {
     "name": "stdout",
     "output_type": "stream",
     "text": [
      "Değer : Python\n",
      "Değer : Fonksiyon\n",
      "Değer : 6\n",
      "Değer : ['a', 'b', 'c']\n"
     ]
    }
   ],
   "source": [
    "for deger in sozluk.values():\n",
    "    print(\"Değer :\" , deger)"
   ]
  },
  {
   "cell_type": "code",
   "execution_count": 16,
   "metadata": {},
   "outputs": [
    {
     "name": "stdout",
     "output_type": "stream",
     "text": [
      "{'Dil': 'Python', 'Konu': 'Fonksiyon', 'Ders Saati': 6, 'katılımcılar': ['a', 'b', 'c']}\n"
     ]
    }
   ],
   "source": [
    "print(sozluk)"
   ]
  },
  {
   "cell_type": "code",
   "execution_count": 17,
   "metadata": {},
   "outputs": [
    {
     "name": "stdout",
     "output_type": "stream",
     "text": [
      "{'Dil': 'Rust', 'Konu': 'Fonksiyon', 'Ders Saati': 6, 'katılımcılar': ['a', 'b', 'c']}\n"
     ]
    }
   ],
   "source": [
    "sozluk[\"Dil\"] = \"Rust\"\n",
    "print(sozluk)"
   ]
  },
  {
   "cell_type": "code",
   "execution_count": 18,
   "metadata": {},
   "outputs": [
    {
     "name": "stdout",
     "output_type": "stream",
     "text": [
      "{'Dil': 'Rust', 'Konu': 'Fonksiyon', 'Ders Saati': 6, 'katılımcılar': ['a', 'b', 'c'], 'Seviye': 'Orta'}\n"
     ]
    }
   ],
   "source": [
    "sozluk[\"Seviye\"] = \"Orta\"\n",
    "print(sozluk)"
   ]
  },
  {
   "cell_type": "code",
   "execution_count": 19,
   "metadata": {},
   "outputs": [
    {
     "name": "stdout",
     "output_type": "stream",
     "text": [
      "{'Dil': 'Rust', 'Konu': 'Fonksiyon', 'Ders Saati': 6, 'katılımcılar': ['a', 'b', 'c'], 'Seviye': 'Orta', 'Sürüm': 3.1}\n"
     ]
    }
   ],
   "source": [
    "sozluk.update({\"Sürüm\":3.10})\n",
    "print(sozluk)"
   ]
  },
  {
   "cell_type": "code",
   "execution_count": 20,
   "metadata": {},
   "outputs": [
    {
     "name": "stdout",
     "output_type": "stream",
     "text": [
      "{'Konu': 'Fonksiyon', 'Ders Saati': 6, 'katılımcılar': ['a', 'b', 'c'], 'Seviye': 'Orta', 'Sürüm': 3.1}\n"
     ]
    }
   ],
   "source": [
    "del sozluk[\"Dil\"]\n",
    "print(sozluk)"
   ]
  },
  {
   "cell_type": "code",
   "execution_count": null,
   "metadata": {},
   "outputs": [],
   "source": []
  }
 ],
 "metadata": {
  "interpreter": {
   "hash": "c1bbcf3623bd8dc7875aada4d728b038d94423f88fee184810e11a7507da9237"
  },
  "kernelspec": {
   "display_name": "Python 3.10.3 64-bit",
   "language": "python",
   "name": "python3"
  },
  "language_info": {
   "codemirror_mode": {
    "name": "ipython",
    "version": 3
   },
   "file_extension": ".py",
   "mimetype": "text/x-python",
   "name": "python",
   "nbconvert_exporter": "python",
   "pygments_lexer": "ipython3",
   "version": "3.10.3"
  },
  "orig_nbformat": 4
 },
 "nbformat": 4,
 "nbformat_minor": 2
}
