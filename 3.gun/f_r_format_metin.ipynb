{
 "cells": [
  {
   "cell_type": "code",
   "execution_count": 1,
   "metadata": {},
   "outputs": [
    {
     "name": "stdout",
     "output_type": "stream",
     "text": [
      "merhaba\n"
     ]
    }
   ],
   "source": [
    "print(\"merhaba\")"
   ]
  },
  {
   "cell_type": "code",
   "execution_count": 2,
   "metadata": {},
   "outputs": [],
   "source": [
    "# metin formatlama\n",
    "a = 5\n",
    "ders = \"Python\"\n",
    "idle = \"vscode\"\n"
   ]
  },
  {
   "cell_type": "code",
   "execution_count": 3,
   "metadata": {},
   "outputs": [
    {
     "name": "stdout",
     "output_type": "stream",
     "text": [
      "5 Python vscode\n"
     ]
    }
   ],
   "source": [
    "print(a, ders, idle)"
   ]
  },
  {
   "cell_type": "code",
   "execution_count": 4,
   "metadata": {},
   "outputs": [
    {
     "name": "stdout",
     "output_type": "stream",
     "text": [
      "Bugünkü dersimiz Python, idlemiz de vscode, 5. günümüz\n"
     ]
    }
   ],
   "source": [
    "# f string\n",
    "print(f\"Bugünkü dersimiz {ders}, idlemiz de {idle}, {a}. günümüz\")"
   ]
  },
  {
   "cell_type": "code",
   "execution_count": 5,
   "metadata": {},
   "outputs": [
    {
     "name": "stdout",
     "output_type": "stream",
     "text": [
      "Bugünkü dersimiz Python, idlemiz de vscode, 5. günümüz\n"
     ]
    }
   ],
   "source": [
    "print(\"Bugünkü dersimiz {}, idlemiz de {}, {}. günümüz\".format(ders,idle,a))"
   ]
  },
  {
   "cell_type": "code",
   "execution_count": 6,
   "metadata": {},
   "outputs": [
    {
     "name": "stdout",
     "output_type": "stream",
     "text": [
      "Bugünkü dersimiz 5, idlemiz de Python, vscode. günümüz\n"
     ]
    }
   ],
   "source": [
    "print(\"Bugünkü dersimiz {2}, idlemiz de {0}, {1}. günümüz\".format(ders,idle,a))"
   ]
  },
  {
   "cell_type": "code",
   "execution_count": 7,
   "metadata": {},
   "outputs": [
    {
     "name": "stdout",
     "output_type": "stream",
     "text": [
      "merhaba \n",
      " iyi \n",
      " akşamlar\n"
     ]
    }
   ],
   "source": [
    "# r \n",
    "# n, t ....  \\n, \\t\n",
    "print(\"merhaba \\n iyi \\n akşamlar\")"
   ]
  },
  {
   "cell_type": "code",
   "execution_count": 8,
   "metadata": {},
   "outputs": [
    {
     "name": "stdout",
     "output_type": "stream",
     "text": [
      "merhaba \\n iyi \\n akşamlar\n"
     ]
    }
   ],
   "source": [
    "print(r\"merhaba \\n iyi \\n akşamlar\")"
   ]
  },
  {
   "cell_type": "code",
   "execution_count": 9,
   "metadata": {},
   "outputs": [
    {
     "name": "stdout",
     "output_type": "stream",
     "text": [
      "C:\\users\\....\\....\n"
     ]
    }
   ],
   "source": [
    "print(r\"C:\\users\\....\\....\")\n"
   ]
  },
  {
   "cell_type": "code",
   "execution_count": null,
   "metadata": {},
   "outputs": [],
   "source": []
  }
 ],
 "metadata": {
  "interpreter": {
   "hash": "c1bbcf3623bd8dc7875aada4d728b038d94423f88fee184810e11a7507da9237"
  },
  "kernelspec": {
   "display_name": "Python 3.10.3 64-bit",
   "language": "python",
   "name": "python3"
  },
  "language_info": {
   "codemirror_mode": {
    "name": "ipython",
    "version": 3
   },
   "file_extension": ".py",
   "mimetype": "text/x-python",
   "name": "python",
   "nbconvert_exporter": "python",
   "pygments_lexer": "ipython3",
   "version": "3.10.3"
  },
  "orig_nbformat": 4
 },
 "nbformat": 4,
 "nbformat_minor": 2
}
