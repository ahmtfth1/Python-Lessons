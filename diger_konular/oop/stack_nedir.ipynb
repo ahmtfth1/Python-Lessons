{
 "metadata": {
  "language_info": {
   "codemirror_mode": {
    "name": "ipython",
    "version": 3
   },
   "file_extension": ".py",
   "mimetype": "text/x-python",
   "name": "python",
   "nbconvert_exporter": "python",
   "pygments_lexer": "ipython3",
   "version": 3
  },
  "orig_nbformat": 2
 },
 "nbformat": 4,
 "nbformat_minor": 2,
 "cells": [
  {
   "source": [
    "stack- yığın - veri yapısıdır"
   ],
   "cell_type": "markdown",
   "metadata": {}
  },
  {
   "source": [
    "push - veri ekeleme\n",
    "pop - veri çekme\n",
    "top - en son eklenen eleman\n",
    "bottom - ilk eklenen eleman\n"
   ],
   "cell_type": "markdown",
   "metadata": {}
  },
  {
   "source": [
    "LIFO - last in first out - son eklenen ilk çıkar"
   ],
   "cell_type": "markdown",
   "metadata": {}
  },
  {
   "cell_type": "code",
   "execution_count": null,
   "metadata": {},
   "outputs": [],
   "source": []
  }
 ]
}